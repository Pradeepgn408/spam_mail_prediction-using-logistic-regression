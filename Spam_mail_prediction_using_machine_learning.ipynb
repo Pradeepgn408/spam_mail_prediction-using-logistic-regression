{
  "nbformat": 4,
  "nbformat_minor": 0,
  "metadata": {
    "colab": {
      "private_outputs": true,
      "provenance": [],
      "authorship_tag": "ABX9TyN/07Uw0jBfIaWTlP+gH2cA",
      "include_colab_link": true
    },
    "kernelspec": {
      "name": "python3",
      "display_name": "Python 3"
    },
    "language_info": {
      "name": "python"
    }
  },
  "cells": [
    {
      "cell_type": "markdown",
      "metadata": {
        "id": "view-in-github",
        "colab_type": "text"
      },
      "source": [
        "<a href=\"https://colab.research.google.com/github/Pradeepgn408/spam_mail_prediction-using-logistic-regression/blob/main/Spam_mail_prediction_using_machine_learning.ipynb\" target=\"_parent\"><img src=\"https://colab.research.google.com/assets/colab-badge.svg\" alt=\"Open In Colab\"/></a>"
      ]
    },
    {
      "cell_type": "markdown",
      "source": [],
      "metadata": {
        "id": "GhroPpyd-WeS"
      }
    },
    {
      "cell_type": "markdown",
      "source": [
        "**Importing the Dependencies**"
      ],
      "metadata": {
        "id": "WLOBzvUw-e_E"
      }
    },
    {
      "cell_type": "code",
      "source": [
        "import  numpy as np\n",
        "import pandas as pd\n",
        "from sklearn.model_selection import train_test_split\n",
        "from sklearn.feature_extraction.text import TfidfVectorizer # to convert text data into numerical data\n",
        "from sklearn.linear_model import LogisticRegression\n",
        "from sklearn.metrics import accuracy_score"
      ],
      "metadata": {
        "id": "lg9i3s0n-vrV"
      },
      "execution_count": null,
      "outputs": []
    },
    {
      "cell_type": "markdown",
      "source": [
        "**Data collection and preprocessing**"
      ],
      "metadata": {
        "id": "6dpGyH1LAOBK"
      }
    },
    {
      "cell_type": "code",
      "source": [
        "#loading the data from csv to pandas dataframe\n",
        "raw_mail_data = pd.read_csv(\"/content/mail_data.csv\")"
      ],
      "metadata": {
        "id": "W1rsovdTAVBc"
      },
      "execution_count": null,
      "outputs": []
    },
    {
      "cell_type": "code",
      "source": [
        "print(raw_mail_data)"
      ],
      "metadata": {
        "id": "i388LP_VA2rr"
      },
      "execution_count": null,
      "outputs": []
    },
    {
      "cell_type": "code",
      "source": [
        "# replace null values with null strings\n",
        "mail_data = raw_mail_data.where((pd.notnull(raw_mail_data)),'')"
      ],
      "metadata": {
        "id": "Jrb5IO1kBEMt"
      },
      "execution_count": null,
      "outputs": []
    },
    {
      "cell_type": "code",
      "source": [
        "mail_data.head()"
      ],
      "metadata": {
        "id": "rF_e98RSCRMJ"
      },
      "execution_count": null,
      "outputs": []
    },
    {
      "cell_type": "code",
      "source": [
        "#checking the number of rows and cloumns in the dataframe\n",
        "mail_data.shape"
      ],
      "metadata": {
        "id": "jPB2Q7gzCV38"
      },
      "execution_count": null,
      "outputs": []
    },
    {
      "cell_type": "markdown",
      "source": [
        "**LabelEncoding for target column here only binary classification is there so go with label encoding**"
      ],
      "metadata": {
        "id": "3q7ai0_PDEGi"
      }
    },
    {
      "cell_type": "code",
      "source": [
        "# spam:0 and ham:1\n",
        "mail_data.loc[mail_data['Category']=='spam','Category']=0\n",
        "mail_data.loc[mail_data['Category']=='ham','Category']=1"
      ],
      "metadata": {
        "id": "ohJrrtZqCwp8"
      },
      "execution_count": null,
      "outputs": []
    },
    {
      "cell_type": "code",
      "source": [
        "#seperating the data as texts and label\n",
        "\n",
        "X = mail_data['Message']\n",
        "\n",
        "Y = mail_data['Category']"
      ],
      "metadata": {
        "id": "A8Q5Gr3oEfk3"
      },
      "execution_count": null,
      "outputs": []
    },
    {
      "cell_type": "code",
      "source": [
        "print(X)"
      ],
      "metadata": {
        "id": "cMfBuXFVE71I"
      },
      "execution_count": null,
      "outputs": []
    },
    {
      "cell_type": "code",
      "source": [
        "print(Y)"
      ],
      "metadata": {
        "id": "cFUo4PNPE-gk"
      },
      "execution_count": null,
      "outputs": []
    },
    {
      "cell_type": "code",
      "source": [
        "Y.dtype\n",
        "# it is converted into object type after that we should covert into integer type"
      ],
      "metadata": {
        "id": "V22NwGgcOPJY"
      },
      "execution_count": null,
      "outputs": []
    },
    {
      "cell_type": "markdown",
      "source": [
        "**Splitting data into Training data and Testing data**"
      ],
      "metadata": {
        "id": "8gtr4kGOFIAy"
      }
    },
    {
      "cell_type": "code",
      "source": [
        "# in order to split we define four arrays\n",
        "X_train,X_test,Y_train,Y_test = train_test_split(X,Y,test_size=0.2,random_state=3)\n",
        "# random_state is used to split the data in same or different way"
      ],
      "metadata": {
        "id": "y43uEQ3fFACw"
      },
      "execution_count": null,
      "outputs": []
    },
    {
      "cell_type": "code",
      "source": [
        "print(X.shape)\n",
        "print(X_train.shape)\n",
        "print(X_test.shape)"
      ],
      "metadata": {
        "id": "UQ8KkDlMHF4m"
      },
      "execution_count": null,
      "outputs": []
    },
    {
      "cell_type": "markdown",
      "source": [
        "**Feture Extraction**\n",
        "\n",
        "converting text data into numerical values"
      ],
      "metadata": {
        "id": "49x0T2EbHtRc"
      }
    },
    {
      "cell_type": "code",
      "source": [
        "# transform the text data to feature vectors that can be used as input to the Logistic regression\n",
        "feature_extraction = TfidfVectorizer(min_df=1,stop_words='english',lowercase = True)\n",
        "#min_df = 1 means the word score should be minimum=1\n",
        "\n",
        "X_train_features = feature_extraction.fit_transform(X_train)\n",
        "X_test_features = feature_extraction.transform(X_test)\n",
        "# dont fit test data only tranform into that feature extraction model because we dont want model to see test data\n",
        "\n",
        "#convert Y_train and Y_test into integer data types\n",
        "Y_train = Y_train.astype('int')\n",
        "Y_test = Y_test.astype('int')\n"
      ],
      "metadata": {
        "id": "FU2hZGY5HTjG"
      },
      "execution_count": null,
      "outputs": []
    },
    {
      "cell_type": "code",
      "source": [
        "print(X_train_features)"
      ],
      "metadata": {
        "id": "C5RaKznZPa0L"
      },
      "execution_count": null,
      "outputs": []
    },
    {
      "cell_type": "markdown",
      "source": [
        "\n",
        "**MODEL TRAINING**\n",
        "\n",
        "**Logistic Regression**\n",
        "\n",
        "```\n",
        "# This is formatted as code\n",
        "```\n",
        "\n"
      ],
      "metadata": {
        "id": "wD0d2YQQQeYu"
      }
    },
    {
      "cell_type": "code",
      "source": [
        "# intializing the logistic regresssion() class and creates one object of this i.e, model.\n",
        "model = LogisticRegression()"
      ],
      "metadata": {
        "id": "zim6hJVNQNkx"
      },
      "execution_count": null,
      "outputs": []
    },
    {
      "cell_type": "code",
      "source": [
        "#training model with data\n",
        "model.fit(X_train_features,Y_train)"
      ],
      "metadata": {
        "id": "LPZt781FRpXE"
      },
      "execution_count": null,
      "outputs": []
    },
    {
      "cell_type": "markdown",
      "source": [
        "**Evaluating the trained Model**"
      ],
      "metadata": {
        "id": "CXFrH5FySrpc"
      }
    },
    {
      "cell_type": "code",
      "source": [
        "#prediction on training data\n",
        "\n",
        "prediction_on_training_data = model.predict(X_train_features)\n",
        "accuracy_on_training_data = accuracy_score(Y_train,prediction_on_training_data)"
      ],
      "metadata": {
        "id": "K5P7rpxvSF0a"
      },
      "execution_count": null,
      "outputs": []
    },
    {
      "cell_type": "code",
      "source": [
        "print('accuracy_on_training_data:',accuracy_on_training_data )"
      ],
      "metadata": {
        "id": "H9lJz_xfVgWj"
      },
      "execution_count": null,
      "outputs": []
    },
    {
      "cell_type": "code",
      "source": [
        "prediction_on_test_data = model.predict(X_test_features)\n",
        "accuracy_on_test_data = accuracy_score(Y_test,prediction_on_test_data)"
      ],
      "metadata": {
        "id": "qC80j-tWXQKQ"
      },
      "execution_count": null,
      "outputs": []
    },
    {
      "cell_type": "code",
      "source": [
        "print('accuracy_on_test_data:',accuracy_on_test_data )"
      ],
      "metadata": {
        "id": "RbhgazH5aQrt"
      },
      "execution_count": null,
      "outputs": []
    },
    {
      "cell_type": "markdown",
      "source": [
        "**Building a Predictive System**"
      ],
      "metadata": {
        "id": "oM_fDeqXbBLf"
      }
    },
    {
      "cell_type": "code",
      "source": [
        "input_mail = [\"I've been searching for the right words to thank you for this breather. I promise i wont take your help for granted and will fulfil my promise. You have been wonderful and a blessing at all times.\"]\n",
        "\n",
        "# convert text to feature vectors\n",
        "input_data_features = feature_extraction.transform(input_mail)\n",
        "\n",
        "#making prediction\n",
        "\n",
        "prediction = model.predict(input_data_features)\n",
        "\n",
        "print(prediction) # result comes as list data type format\n",
        "\n",
        "\n",
        "if (prediction[0]) ==1:\n",
        "  print(\"it is ham mail\")\n",
        "else:\n",
        "  print(\"it is spam mail\")"
      ],
      "metadata": {
        "id": "Ku8XhS1CahcR"
      },
      "execution_count": null,
      "outputs": []
    },
    {
      "cell_type": "code",
      "source": [],
      "metadata": {
        "id": "W0f-DZRGcxHP"
      },
      "execution_count": null,
      "outputs": []
    }
  ]
}