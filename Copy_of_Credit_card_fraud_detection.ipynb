{
  "nbformat": 4,
  "nbformat_minor": 0,
  "metadata": {
    "colab": {
      "private_outputs": true,
      "provenance": [],
      "authorship_tag": "ABX9TyNm9qsXcVe6/EKRHnbrM+Ay",
      "include_colab_link": true
    },
    "kernelspec": {
      "name": "python3",
      "display_name": "Python 3"
    },
    "language_info": {
      "name": "python"
    }
  },
  "cells": [
    {
      "cell_type": "markdown",
      "metadata": {
        "id": "view-in-github",
        "colab_type": "text"
      },
      "source": [
        "<a href=\"https://colab.research.google.com/github/Pradeepgn408/spam_mail_prediction-using-logistic-regression/blob/main/Copy_of_Credit_card_fraud_detection.ipynb\" target=\"_parent\"><img src=\"https://colab.research.google.com/assets/colab-badge.svg\" alt=\"Open In Colab\"/></a>"
      ]
    },
    {
      "cell_type": "code",
      "execution_count": null,
      "metadata": {
        "id": "gm2arTv2Khgd"
      },
      "outputs": [],
      "source": [
        "import numpy as np\n",
        "import pandas as pd\n",
        "from sklearn.model_selection import train_test_split\n",
        "from sklearn.linear_model import LogisticRegression\n",
        "from sklearn.metrics import accuracy_score"
      ]
    },
    {
      "cell_type": "code",
      "source": [
        "credit_card_data = pd.read_csv(\"/content/creditcard.csv\")"
      ],
      "metadata": {
        "id": "wBccxlwROiOr"
      },
      "execution_count": null,
      "outputs": []
    },
    {
      "cell_type": "code",
      "source": [
        "credit_card_data.head()"
      ],
      "metadata": {
        "id": "jlDrHT-vOu99"
      },
      "execution_count": null,
      "outputs": []
    },
    {
      "cell_type": "code",
      "source": [
        "credit_card_data.tail()\n",
        "#here time in seconds total 172792 seconds data present means 2 days data given"
      ],
      "metadata": {
        "id": "s2TtRbKWOy7t"
      },
      "execution_count": null,
      "outputs": []
    },
    {
      "cell_type": "code",
      "source": [
        "# dataset inforamtion\n",
        "credit_card_data.info()"
      ],
      "metadata": {
        "id": "UOQQqKYBPhou"
      },
      "execution_count": null,
      "outputs": []
    },
    {
      "cell_type": "code",
      "source": [
        "# checking the number of missing values in each column\n",
        "credit_card_data.isnull().sum()"
      ],
      "metadata": {
        "id": "H2SlSO-5QPwC"
      },
      "execution_count": null,
      "outputs": []
    },
    {
      "cell_type": "code",
      "source": [
        "# going to chcek the distribution of the legit transactin and fradulent transaction\n",
        "\n",
        "credit_card_data[\"Class\"].value_counts()"
      ],
      "metadata": {
        "id": "qACU1UPNQhTa"
      },
      "execution_count": null,
      "outputs": []
    },
    {
      "cell_type": "code",
      "source": [
        "# here clearly showing that 99% data are good an dlegit transaction only 1% data is fradualent so it is imbalanced dataset."
      ],
      "metadata": {
        "id": "7FLf0-XCREu1"
      },
      "execution_count": null,
      "outputs": []
    },
    {
      "cell_type": "markdown",
      "source": [
        "**unbalanced dataset\n",
        "1: fradualent transaction\n",
        "0: legit transaction**"
      ],
      "metadata": {
        "id": "7S2kPSpERng6"
      }
    },
    {
      "cell_type": "code",
      "source": [
        "#seperating the data for analysis\n",
        "\n",
        "legit = credit_card_data[credit_card_data.Class==0]\n",
        "fraud = credit_card_data[credit_card_data.Class==1]"
      ],
      "metadata": {
        "id": "UGG3HNxYR_Dk"
      },
      "execution_count": null,
      "outputs": []
    },
    {
      "cell_type": "code",
      "source": [
        "print(legit.shape)"
      ],
      "metadata": {
        "id": "rr-VNtzNSXpK"
      },
      "execution_count": null,
      "outputs": []
    },
    {
      "cell_type": "code",
      "source": [
        "print(fraud.shape)"
      ],
      "metadata": {
        "id": "qvLsgneYSn1C"
      },
      "execution_count": null,
      "outputs": []
    },
    {
      "cell_type": "code",
      "source": [
        "# statistical measures of the data\n",
        "\n",
        "legit.Amount.describe()"
      ],
      "metadata": {
        "id": "F4b6o-2PSqq6"
      },
      "execution_count": null,
      "outputs": []
    },
    {
      "cell_type": "code",
      "source": [
        "fraud.Amount.describe()"
      ],
      "metadata": {
        "id": "3WITLHMcS9XS"
      },
      "execution_count": null,
      "outputs": []
    },
    {
      "cell_type": "code",
      "source": [
        "# compare the values for both transactions\n",
        "\n",
        "credit_card_data.groupby(\"Class\").mean()"
      ],
      "metadata": {
        "id": "rgn0Z8NSTrPy"
      },
      "execution_count": null,
      "outputs": []
    },
    {
      "cell_type": "markdown",
      "source": [],
      "metadata": {
        "id": "fe-19rEMUuBT"
      }
    },
    {
      "cell_type": "markdown",
      "source": [
        "** sample dataset cntaining similar distribution of normal transactions and fradualent transactions**"
      ],
      "metadata": {
        "id": "3zICGexzVByD"
      }
    },
    {
      "cell_type": "code",
      "source": [
        "# dealing with un balanced data\n",
        "# number of fradulent transactions in entire dataset-------------> 492\n",
        "# undersampling technique :\n",
        "\n",
        "legit_sample = legit.sample(n=492)"
      ],
      "metadata": {
        "id": "_65iCkTFUSri"
      },
      "execution_count": null,
      "outputs": []
    },
    {
      "cell_type": "code",
      "source": [
        "# concatenating two data frames\n",
        "\n",
        "new_dataset = pd.concat([legit_sample,fraud],axis=0)\n",
        "# axis=0 means added row wise\n",
        "new_dataset.head()"
      ],
      "metadata": {
        "id": "N-Dqb0-TWcGv"
      },
      "execution_count": null,
      "outputs": []
    },
    {
      "cell_type": "code",
      "source": [
        "new_dataset.tail()"
      ],
      "metadata": {
        "id": "m527xGCCXBVg"
      },
      "execution_count": null,
      "outputs": []
    },
    {
      "cell_type": "code",
      "source": [
        "new_dataset[\"Class\"].value_counts()"
      ],
      "metadata": {
        "id": "TW32BaHMXuNo"
      },
      "execution_count": null,
      "outputs": []
    },
    {
      "cell_type": "code",
      "source": [
        "new_dataset.groupby(\"Class\").mean()"
      ],
      "metadata": {
        "id": "JtbaupitYAhA"
      },
      "execution_count": null,
      "outputs": []
    },
    {
      "cell_type": "markdown",
      "source": [
        "this particular step clearly observe ,it is shwoing that the comparasion of legit and fraud ....like above its having good difereces ,so the sampletaken is correct\n"
      ],
      "metadata": {
        "id": "yPWOfjzJYRuy"
      }
    },
    {
      "cell_type": "markdown",
      "source": [
        "**splitting data into features and target**"
      ],
      "metadata": {
        "id": "uqXGBOgvcMPt"
      }
    },
    {
      "cell_type": "code",
      "source": [
        "X = new_dataset.drop(columns=\"Class\",axis=1)\n",
        "Y = new_dataset[\"Class\"]"
      ],
      "metadata": {
        "id": "75PMxI2ZYJ2g"
      },
      "execution_count": null,
      "outputs": []
    },
    {
      "cell_type": "code",
      "source": [
        "print(X)"
      ],
      "metadata": {
        "id": "tXf1yERncjQ-"
      },
      "execution_count": null,
      "outputs": []
    },
    {
      "cell_type": "code",
      "source": [
        "print(Y)"
      ],
      "metadata": {
        "id": "aiWnwo32clAJ"
      },
      "execution_count": null,
      "outputs": []
    },
    {
      "cell_type": "markdown",
      "source": [
        "Train_Test split"
      ],
      "metadata": {
        "id": "Fjnvz25Jctm6"
      }
    },
    {
      "cell_type": "code",
      "source": [
        "X_train,X_test,Y_train,Y_test = train_test_split(X,Y,test_size = 0.2,stratify=Y,random_state=2)"
      ],
      "metadata": {
        "id": "bqvPvEmFcncx"
      },
      "execution_count": null,
      "outputs": []
    },
    {
      "cell_type": "code",
      "source": [
        "print(X.shape,X_train.shape,X_test.shape)"
      ],
      "metadata": {
        "id": "6FIwD-IpeHMW"
      },
      "execution_count": null,
      "outputs": []
    },
    {
      "cell_type": "markdown",
      "source": [
        "**Model Training**\n",
        "\n",
        "Logistic Regression"
      ],
      "metadata": {
        "id": "ZQkNqHFveb6n"
      }
    },
    {
      "cell_type": "code",
      "source": [
        "model = LogisticRegression()"
      ],
      "metadata": {
        "id": "AqDBdHQweQ9G"
      },
      "execution_count": null,
      "outputs": []
    },
    {
      "cell_type": "code",
      "source": [
        "# training the logistic regression model with the training\n",
        "\n",
        "model.fit(X_train,Y_train)\n"
      ],
      "metadata": {
        "id": "J07A6Bo_ewpK"
      },
      "execution_count": null,
      "outputs": []
    },
    {
      "cell_type": "markdown",
      "source": [
        "**Model evaluation**"
      ],
      "metadata": {
        "id": "GVhN03Cufgrc"
      }
    },
    {
      "cell_type": "code",
      "source": [
        "#Accuracy score\n",
        "\n",
        "# training_data accuracy:\n",
        "X_train_prediction = model.predict(X_train)\n",
        "training_data_accuracy = accuracy_score(X_train_prediction,Y_train)"
      ],
      "metadata": {
        "id": "SeSvNyPKfOtL"
      },
      "execution_count": null,
      "outputs": []
    },
    {
      "cell_type": "code",
      "source": [
        "print(\"training_data_accuracy:\",training_data_accuracy)"
      ],
      "metadata": {
        "id": "QRlWsIBNgP0_"
      },
      "execution_count": null,
      "outputs": []
    },
    {
      "cell_type": "code",
      "source": [
        "# test_data accuracy:\n",
        "X_test_prediction = model.predict(X_test)\n",
        "test_data_accuracy = accuracy_score(X_test_prediction,Y_test)\n"
      ],
      "metadata": {
        "id": "JvLhC6-HgW2n"
      },
      "execution_count": null,
      "outputs": []
    },
    {
      "cell_type": "code",
      "source": [
        "print(\"test_data_accuracy\",test_data_accuracy)"
      ],
      "metadata": {
        "id": "WVqcATyFgtZH"
      },
      "execution_count": null,
      "outputs": []
    },
    {
      "cell_type": "code",
      "source": [],
      "metadata": {
        "id": "-bO1OTi1gzaf"
      },
      "execution_count": null,
      "outputs": []
    }
  ]
}